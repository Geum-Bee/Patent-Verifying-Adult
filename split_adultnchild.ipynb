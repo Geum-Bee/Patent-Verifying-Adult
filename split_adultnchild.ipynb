{
 "cells": [
  {
   "cell_type": "code",
   "execution_count": 1,
   "metadata": {
    "collapsed": true
   },
   "outputs": [],
   "source": [
    "import os\n",
    "import shutil"
   ]
  },
  {
   "cell_type": "code",
   "execution_count": 2,
   "outputs": [
    {
     "name": "stdout",
     "output_type": "stream",
     "text": [
      "Split Done!\n"
     ]
    }
   ],
   "source": [
    "pic_dir   = '../preprocessed'\n",
    "a_n_c_dir = '../adultnchild'\n",
    "child_dir = '../adultnchild/child'\n",
    "adult_dir = '../adultnchild/adult'\n",
    "\n",
    "\n",
    "if not os.path.exists(a_n_c_dir):\n",
    "    os.makedirs(a_n_c_dir)\n",
    "\n",
    "if not os.path.exists(child_dir):\n",
    "    os.makedirs(child_dir)\n",
    "\n",
    "if not os.path.exists(adult_dir):\n",
    "    os.makedirs(adult_dir)\n",
    "\n",
    "\n",
    "for filename in os.listdir(pic_dir):\n",
    "    age = int(filename.split('_')[3])\n",
    "\n",
    "    source_path = os.path.join(pic_dir, filename)\n",
    "\n",
    "    if age < 20:\n",
    "        destination_path = os.path.join(child_dir, filename)\n",
    "        shutil.move(source_path, destination_path)\n",
    "    else:\n",
    "        destination_path = os.path.join(adult_dir, filename)\n",
    "        shutil.move(source_path, destination_path)\n",
    "\n",
    "print(\"Split Done!\")"
   ],
   "metadata": {
    "collapsed": false
   }
  }
 ],
 "metadata": {
  "kernelspec": {
   "display_name": "Python 3",
   "language": "python",
   "name": "python3"
  },
  "language_info": {
   "codemirror_mode": {
    "name": "ipython",
    "version": 2
   },
   "file_extension": ".py",
   "mimetype": "text/x-python",
   "name": "python",
   "nbconvert_exporter": "python",
   "pygments_lexer": "ipython2",
   "version": "2.7.6"
  }
 },
 "nbformat": 4,
 "nbformat_minor": 0
}
