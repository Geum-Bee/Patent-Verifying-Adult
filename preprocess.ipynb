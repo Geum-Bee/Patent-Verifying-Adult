{
 "cells": [
  {
   "cell_type": "code",
   "execution_count": 1,
   "id": "7bc13b02",
   "metadata": {},
   "outputs": [],
   "source": [
    "import os\n",
    "import cv2\n",
    "import shutil\n",
    "from PIL import Image\n",
    "import numpy as np"
   ]
  },
  {
   "cell_type": "code",
   "execution_count": 2,
   "id": "39e7fa01",
   "metadata": {},
   "outputs": [],
   "source": [
    "def add_salt_pepper_noise(image, salt_prob=0.05, pepper_prob=0.05):\n",
    "    noisy = np.copy(image)\n",
    "    total_pixels = image.size\n",
    "\n",
    "    # Salt noise\n",
    "    num_salt = np.ceil(salt_prob * total_pixels)\n",
    "\n",
    "    if len(image.shape) == 3:  # 컬러 이미지\n",
    "        salt_coords = [np.random.randint(0, i-1, int(num_salt)) for i in image.shape]\n",
    "        noisy[salt_coords[0], salt_coords[1], :] = 255\n",
    "    else:  # 흑백 이미지\n",
    "        salt_coords = [np.random.randint(0, i-1, int(num_salt)) for i in image.shape]\n",
    "        noisy[salt_coords[0], salt_coords[1]] = 255\n",
    "\n",
    "    # Pepper noise\n",
    "    num_pepper = np.ceil(pepper_prob * total_pixels)\n",
    "\n",
    "    if len(image.shape) == 3:  # 컬러 이미지\n",
    "        pepper_coords = [np.random.randint(0, i-1, int(num_pepper)) for i in image.shape]\n",
    "        noisy[pepper_coords[0], pepper_coords[1], :] = 0\n",
    "    else:  # 흑백 이미지\n",
    "        pepper_coords = [np.random.randint(0, i-1, int(num_pepper)) for i in image.shape]\n",
    "        noisy[pepper_coords[0], pepper_coords[1]] = 0\n",
    "\n",
    "    return noisy"
   ]
  },
  {
   "cell_type": "code",
   "execution_count": 3,
   "id": "6989abe3",
   "metadata": {},
   "outputs": [],
   "source": [
    "def adjust_brightness(img, factor):\n",
    "    np_img = np.array(img)\n",
    "    adjusted = np.clip(np_img + factor, 0, 255)\n",
    "    \n",
    "    return adjusted.astype('uint8')  # numpy array를 반환합니다."
   ]
  },
  {
   "cell_type": "code",
   "execution_count": 4,
   "id": "1170ed06",
   "metadata": {},
   "outputs": [],
   "source": [
    "def get_average_brightness(img):\n",
    "    np_img = np.array(img)\n",
    "\n",
    "    return np.mean(np_img)"
   ]
  },
  {
   "cell_type": "code",
   "execution_count": 5,
   "id": "328e9682",
   "metadata": {},
   "outputs": [],
   "source": [
    "def gaussian_blur(image_path):\n",
    "    image = cv2.imread(image_path, cv2.IMREAD_COLOR)\n",
    "    \n",
    "    # 수정가능\n",
    "    kernel_size = 11\n",
    "    sigma = 0\n",
    "\n",
    "    blurred_image = cv2.GaussianBlur(image, (kernel_size, kernel_size), sigma)\n",
    "    \n",
    "    return blurred_image"
   ]
  },
  {
   "cell_type": "code",
   "execution_count": 6,
   "id": "92cc10eb",
   "metadata": {},
   "outputs": [],
   "source": [
    "def main():\n",
    "    dir_path   = \"../hand_pics\"\n",
    "    file_names = os.listdir(dir_path)\n",
    "\n",
    "    preprocess_path = \"../preprocessed\"\n",
    "    \n",
    "    # 저장경로 없으면 생성\n",
    "    if not os.path.exists(preprocess_path):\n",
    "        os.makedirs(preprocess_path)\n",
    "    \n",
    "    # 모든 이미지의 밝기를 200으로 설정하기 위한 상수\n",
    "    MEAN_BRIGHTNESS = 200\n",
    "    \n",
    "    for file_name in file_names:\n",
    "        image_path    = os.path.join(dir_path, file_name)\n",
    "        blurred_image = gaussian_blur(image_path)\n",
    "        \n",
    "        avg_brightness        = get_average_brightness(blurred_image)\n",
    "        factor                = MEAN_BRIGHTNESS - avg_brightness\n",
    "        adjust_brightness_img = adjust_brightness(blurred_image, factor)\n",
    "        noisy_img             = add_salt_pepper_noise(adjust_brightness_img)\n",
    "        \n",
    "        \n",
    "        save_path = os.path.join(preprocess_path, file_name)\n",
    "\n",
    "        cv2.imwrite(save_path, noisy_img)\n",
    "\n",
    "    print(\"Preprocess Image Done!\")"
   ]
  },
  {
   "cell_type": "code",
   "execution_count": 7,
   "id": "18d4deeb",
   "metadata": {},
   "outputs": [
    {
     "name": "stdout",
     "output_type": "stream",
     "text": [
      "Preprocess Image Done!\n"
     ]
    }
   ],
   "source": [
    "main()"
   ]
  }
 ],
 "metadata": {
  "kernelspec": {
   "display_name": "[Pytorch3.x]",
   "language": "python",
   "name": "geum_bi"
  },
  "language_info": {
   "codemirror_mode": {
    "name": "ipython",
    "version": 3
   },
   "file_extension": ".py",
   "mimetype": "text/x-python",
   "name": "python",
   "nbconvert_exporter": "python",
   "pygments_lexer": "ipython3",
   "version": "3.10.12"
  }
 },
 "nbformat": 4,
 "nbformat_minor": 5
}
