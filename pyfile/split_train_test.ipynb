{
 "cells": [
  {
   "cell_type": "code",
   "execution_count": 1,
   "id": "4c47f6cf",
   "metadata": {},
   "outputs": [],
   "source": [
    "# pip install split-folders tqdm\n",
    "import splitfolders"
   ]
  },
  {
   "cell_type": "code",
   "execution_count": 2,
   "id": "225048a9",
   "metadata": {},
   "outputs": [
    {
     "name": "stderr",
     "output_type": "stream",
     "text": [
      "Copying files: 3160 files [00:18, 167.77 files/s]\n"
     ]
    }
   ],
   "source": [
    "input_folder  = \"../adultnchild\"\n",
    "output_folder = \"../data\"\n",
    "\n",
    "# 시드 조정\n",
    "today_seed = 927\n",
    "\n",
    "# 비율 조정\n",
    "splitfolders.ratio(input_folder, output=output_folder, seed=today_seed, ratio=(.7, .3))"
   ]
  }
 ],
 "metadata": {
  "kernelspec": {
   "display_name": "Python 3 (ipykernel)",
   "language": "python",
   "name": "python3"
  },
  "language_info": {
   "codemirror_mode": {
    "name": "ipython",
    "version": 3
   },
   "file_extension": ".py",
   "mimetype": "text/x-python",
   "name": "python",
   "nbconvert_exporter": "python",
   "pygments_lexer": "ipython3",
   "version": "3.10.12"
  }
 },
 "nbformat": 4,
 "nbformat_minor": 5
}
