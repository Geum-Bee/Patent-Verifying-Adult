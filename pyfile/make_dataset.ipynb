{
 "cells": [
  {
   "cell_type": "code",
   "execution_count": 11,
   "id": "ce3e909b",
   "metadata": {},
   "outputs": [],
   "source": [
    "# pip install opencv-python\n",
    "# pip install Pillow\n",
    "\n",
    "import os\n",
    "import cv2\n",
    "import shutil\n",
    "from PIL import Image\n",
    "import numpy as np"
   ]
  },
  {
   "cell_type": "code",
   "execution_count": 16,
   "id": "2abca203",
   "metadata": {},
   "outputs": [],
   "source": [
    "def resize_image():\n",
    "    dir_path   = \"../hand_dataset/child\"\n",
    "    file_names = os.listdir(dir_path)\n",
    "    \n",
    "    save_path = \"../resized_images\"\n",
    "    \n",
    "    # 저장경로 없으면 생성\n",
    "    if not os.path.exists(save_path):\n",
    "        os.makedirs(save_path)\n",
    "    \n",
    "    for file_name in file_names:\n",
    "        image_path = os.path.join(dir_path, file_name)\n",
    "        image      = Image.open(image_path)\n",
    "        \n",
    "        resized_image = image.resize((1600, 1200), Image.LANCZOS)\n",
    "        \n",
    "        output_path = os.path.join(save_path, file_name)\n",
    "        resized_image.save(output_path)\n",
    "        \n",
    "    print(\"Resized Image Done!\")"
   ]
  },
  {
   "cell_type": "code",
   "execution_count": 17,
   "id": "4f07ed24",
   "metadata": {},
   "outputs": [],
   "source": [
    "def move_resized_image():\n",
    "    source_dir      = \"../resized_images\"\n",
    "    destination_dir = \"../hand_pics\"\n",
    "    \n",
    "    file_names = os.listdir(source_dir)\n",
    "    \n",
    "    for file_name in file_names:\n",
    "        source_path      = os.path.join(source_dir, file_name)\n",
    "        destination_path = os.path.join(destination_dir, file_name)\n",
    "        shutil.move(source_path, destination_path)\n",
    "    \n",
    "    print(\"Moved Image Done!\")"
   ]
  },
  {
   "cell_type": "code",
   "execution_count": 18,
   "id": "97a848b0",
   "metadata": {},
   "outputs": [],
   "source": [
    "def copy_original_image():\n",
    "    source_dir      = \"../hand_dataset/adult\"\n",
    "    destination_dir = \"../hand_pics\"\n",
    "    \n",
    "    file_names = os.listdir(source_dir)\n",
    "    \n",
    "    for file_name in file_names:\n",
    "        source_path      = os.path.join(source_dir, file_name)\n",
    "        destination_path = os.path.join(destination_dir, file_name)\n",
    "        shutil.copy(source_path, destination_path)\n",
    "    \n",
    "    print(\"Copy Image Done!\")"
   ]
  },
  {
   "cell_type": "code",
   "execution_count": 19,
   "id": "de888fb6",
   "metadata": {},
   "outputs": [],
   "source": [
    "def main():\n",
    "    # 11k hands의 원래 이미지들을 hand_pics로 복사\n",
    "    copy_original_image()\n",
    "    # 수집한 데이터의 이미지 해상도를 변경\n",
    "    resize_image()   \n",
    "    # 해상도 변경한 이미지를 이동\n",
    "    move_resized_image()\n",
    "\n",
    "    print(\"Resize And Move Done!\")"
   ]
  },
  {
   "cell_type": "code",
   "execution_count": 20,
   "id": "535a420f",
   "metadata": {},
   "outputs": [
    {
     "name": "stdout",
     "output_type": "stream",
     "text": [
      "Copy Image Done!\n",
      "Resized Image Done!\n",
      "Moved Image Done!\n",
      "Preprocess Image Done!\n"
     ]
    }
   ],
   "source": [
    "main()"
   ]
  }
 ],
 "metadata": {
  "kernelspec": {
   "display_name": "Python 3 (ipykernel)",
   "language": "python",
   "name": "python3"
  },
  "language_info": {
   "codemirror_mode": {
    "name": "ipython",
    "version": 3
   },
   "file_extension": ".py",
   "mimetype": "text/x-python",
   "name": "python",
   "nbconvert_exporter": "python",
   "pygments_lexer": "ipython3",
   "version": "3.10.12"
  }
 },
 "nbformat": 4,
 "nbformat_minor": 5
}
